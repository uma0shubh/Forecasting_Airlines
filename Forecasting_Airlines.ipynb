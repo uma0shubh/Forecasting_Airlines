{
 "cells": [
  {
   "cell_type": "markdown",
   "id": "e50cf0b4",
   "metadata": {},
   "source": [
    "# Forecast the Airlines Passengers data set. Prepare a document for each model explaining. how many dummy variables you have created and RMSE value for each model. Finally which model you will use for Forecasting."
   ]
  },
  {
   "cell_type": "code",
   "execution_count": 1,
   "id": "36661d1b",
   "metadata": {},
   "outputs": [
    {
     "name": "stderr",
     "output_type": "stream",
     "text": [
      "C:\\Users\\Sharda\\anaconda3\\lib\\site-packages\\scipy\\__init__.py:146: UserWarning: A NumPy version >=1.16.5 and <1.23.0 is required for this version of SciPy (detected version 1.23.2\n",
      "  warnings.warn(f\"A NumPy version >={np_minversion} and <{np_maxversion}\"\n"
     ]
    }
   ],
   "source": [
    "import pandas as pd\n",
    "import numpy as np\n",
    "import matplotlib.pyplot as plt\n",
    "import seaborn as sns"
   ]
  },
  {
   "cell_type": "code",
   "execution_count": 2,
   "id": "d8346e49",
   "metadata": {},
   "outputs": [
    {
     "data": {
      "text/html": [
       "<div>\n",
       "<style scoped>\n",
       "    .dataframe tbody tr th:only-of-type {\n",
       "        vertical-align: middle;\n",
       "    }\n",
       "\n",
       "    .dataframe tbody tr th {\n",
       "        vertical-align: top;\n",
       "    }\n",
       "\n",
       "    .dataframe thead th {\n",
       "        text-align: right;\n",
       "    }\n",
       "</style>\n",
       "<table border=\"1\" class=\"dataframe\">\n",
       "  <thead>\n",
       "    <tr style=\"text-align: right;\">\n",
       "      <th></th>\n",
       "      <th>Month</th>\n",
       "      <th>Passengers</th>\n",
       "    </tr>\n",
       "  </thead>\n",
       "  <tbody>\n",
       "    <tr>\n",
       "      <th>0</th>\n",
       "      <td>1995-01-01</td>\n",
       "      <td>112</td>\n",
       "    </tr>\n",
       "    <tr>\n",
       "      <th>1</th>\n",
       "      <td>1995-02-01</td>\n",
       "      <td>118</td>\n",
       "    </tr>\n",
       "    <tr>\n",
       "      <th>2</th>\n",
       "      <td>1995-03-01</td>\n",
       "      <td>132</td>\n",
       "    </tr>\n",
       "    <tr>\n",
       "      <th>3</th>\n",
       "      <td>1995-04-01</td>\n",
       "      <td>129</td>\n",
       "    </tr>\n",
       "    <tr>\n",
       "      <th>4</th>\n",
       "      <td>1995-05-01</td>\n",
       "      <td>121</td>\n",
       "    </tr>\n",
       "  </tbody>\n",
       "</table>\n",
       "</div>"
      ],
      "text/plain": [
       "       Month  Passengers\n",
       "0 1995-01-01         112\n",
       "1 1995-02-01         118\n",
       "2 1995-03-01         132\n",
       "3 1995-04-01         129\n",
       "4 1995-05-01         121"
      ]
     },
     "execution_count": 2,
     "metadata": {},
     "output_type": "execute_result"
    }
   ],
   "source": [
    "df=pd.read_excel(\"Airlines+Data.xlsx\")\n",
    "df.head()"
   ]
  },
  {
   "cell_type": "code",
   "execution_count": 3,
   "id": "0cac4939",
   "metadata": {},
   "outputs": [
    {
     "data": {
      "text/plain": [
       "(96, 2)"
      ]
     },
     "execution_count": 3,
     "metadata": {},
     "output_type": "execute_result"
    }
   ],
   "source": [
    "df.shape"
   ]
  },
  {
   "cell_type": "code",
   "execution_count": 4,
   "id": "19c8a29e",
   "metadata": {},
   "outputs": [],
   "source": [
    "# We will extract month values and Year values separately from 'Quarter column'\n",
    "df['month'] = df['Month'].dt.month\n",
    "df['year'] = df['Month'].dt.year"
   ]
  },
  {
   "cell_type": "code",
   "execution_count": 5,
   "id": "cfb54a57",
   "metadata": {},
   "outputs": [
    {
     "data": {
      "text/html": [
       "<div>\n",
       "<style scoped>\n",
       "    .dataframe tbody tr th:only-of-type {\n",
       "        vertical-align: middle;\n",
       "    }\n",
       "\n",
       "    .dataframe tbody tr th {\n",
       "        vertical-align: top;\n",
       "    }\n",
       "\n",
       "    .dataframe thead th {\n",
       "        text-align: right;\n",
       "    }\n",
       "</style>\n",
       "<table border=\"1\" class=\"dataframe\">\n",
       "  <thead>\n",
       "    <tr style=\"text-align: right;\">\n",
       "      <th></th>\n",
       "      <th>Month</th>\n",
       "      <th>Passengers</th>\n",
       "      <th>month</th>\n",
       "      <th>year</th>\n",
       "    </tr>\n",
       "  </thead>\n",
       "  <tbody>\n",
       "    <tr>\n",
       "      <th>0</th>\n",
       "      <td>1995-01-01</td>\n",
       "      <td>112</td>\n",
       "      <td>1</td>\n",
       "      <td>1995</td>\n",
       "    </tr>\n",
       "    <tr>\n",
       "      <th>1</th>\n",
       "      <td>1995-02-01</td>\n",
       "      <td>118</td>\n",
       "      <td>2</td>\n",
       "      <td>1995</td>\n",
       "    </tr>\n",
       "    <tr>\n",
       "      <th>2</th>\n",
       "      <td>1995-03-01</td>\n",
       "      <td>132</td>\n",
       "      <td>3</td>\n",
       "      <td>1995</td>\n",
       "    </tr>\n",
       "    <tr>\n",
       "      <th>3</th>\n",
       "      <td>1995-04-01</td>\n",
       "      <td>129</td>\n",
       "      <td>4</td>\n",
       "      <td>1995</td>\n",
       "    </tr>\n",
       "    <tr>\n",
       "      <th>4</th>\n",
       "      <td>1995-05-01</td>\n",
       "      <td>121</td>\n",
       "      <td>5</td>\n",
       "      <td>1995</td>\n",
       "    </tr>\n",
       "  </tbody>\n",
       "</table>\n",
       "</div>"
      ],
      "text/plain": [
       "       Month  Passengers  month  year\n",
       "0 1995-01-01         112      1  1995\n",
       "1 1995-02-01         118      2  1995\n",
       "2 1995-03-01         132      3  1995\n",
       "3 1995-04-01         129      4  1995\n",
       "4 1995-05-01         121      5  1995"
      ]
     },
     "execution_count": 5,
     "metadata": {},
     "output_type": "execute_result"
    }
   ],
   "source": [
    "df.head()"
   ]
  },
  {
   "cell_type": "code",
   "execution_count": 6,
   "id": "9683b781",
   "metadata": {},
   "outputs": [
    {
     "data": {
      "text/html": [
       "<div>\n",
       "<style scoped>\n",
       "    .dataframe tbody tr th:only-of-type {\n",
       "        vertical-align: middle;\n",
       "    }\n",
       "\n",
       "    .dataframe tbody tr th {\n",
       "        vertical-align: top;\n",
       "    }\n",
       "\n",
       "    .dataframe thead th {\n",
       "        text-align: right;\n",
       "    }\n",
       "</style>\n",
       "<table border=\"1\" class=\"dataframe\">\n",
       "  <thead>\n",
       "    <tr style=\"text-align: right;\">\n",
       "      <th></th>\n",
       "      <th>Month</th>\n",
       "      <th>Passengers</th>\n",
       "      <th>month</th>\n",
       "      <th>year</th>\n",
       "      <th>1</th>\n",
       "      <th>2</th>\n",
       "      <th>3</th>\n",
       "      <th>4</th>\n",
       "      <th>5</th>\n",
       "      <th>6</th>\n",
       "      <th>7</th>\n",
       "      <th>8</th>\n",
       "      <th>9</th>\n",
       "      <th>10</th>\n",
       "      <th>11</th>\n",
       "      <th>12</th>\n",
       "    </tr>\n",
       "  </thead>\n",
       "  <tbody>\n",
       "    <tr>\n",
       "      <th>0</th>\n",
       "      <td>1995-01-01</td>\n",
       "      <td>112</td>\n",
       "      <td>1</td>\n",
       "      <td>1995</td>\n",
       "      <td>1</td>\n",
       "      <td>0</td>\n",
       "      <td>0</td>\n",
       "      <td>0</td>\n",
       "      <td>0</td>\n",
       "      <td>0</td>\n",
       "      <td>0</td>\n",
       "      <td>0</td>\n",
       "      <td>0</td>\n",
       "      <td>0</td>\n",
       "      <td>0</td>\n",
       "      <td>0</td>\n",
       "    </tr>\n",
       "    <tr>\n",
       "      <th>1</th>\n",
       "      <td>1995-02-01</td>\n",
       "      <td>118</td>\n",
       "      <td>2</td>\n",
       "      <td>1995</td>\n",
       "      <td>0</td>\n",
       "      <td>1</td>\n",
       "      <td>0</td>\n",
       "      <td>0</td>\n",
       "      <td>0</td>\n",
       "      <td>0</td>\n",
       "      <td>0</td>\n",
       "      <td>0</td>\n",
       "      <td>0</td>\n",
       "      <td>0</td>\n",
       "      <td>0</td>\n",
       "      <td>0</td>\n",
       "    </tr>\n",
       "    <tr>\n",
       "      <th>2</th>\n",
       "      <td>1995-03-01</td>\n",
       "      <td>132</td>\n",
       "      <td>3</td>\n",
       "      <td>1995</td>\n",
       "      <td>0</td>\n",
       "      <td>0</td>\n",
       "      <td>1</td>\n",
       "      <td>0</td>\n",
       "      <td>0</td>\n",
       "      <td>0</td>\n",
       "      <td>0</td>\n",
       "      <td>0</td>\n",
       "      <td>0</td>\n",
       "      <td>0</td>\n",
       "      <td>0</td>\n",
       "      <td>0</td>\n",
       "    </tr>\n",
       "    <tr>\n",
       "      <th>3</th>\n",
       "      <td>1995-04-01</td>\n",
       "      <td>129</td>\n",
       "      <td>4</td>\n",
       "      <td>1995</td>\n",
       "      <td>0</td>\n",
       "      <td>0</td>\n",
       "      <td>0</td>\n",
       "      <td>1</td>\n",
       "      <td>0</td>\n",
       "      <td>0</td>\n",
       "      <td>0</td>\n",
       "      <td>0</td>\n",
       "      <td>0</td>\n",
       "      <td>0</td>\n",
       "      <td>0</td>\n",
       "      <td>0</td>\n",
       "    </tr>\n",
       "    <tr>\n",
       "      <th>4</th>\n",
       "      <td>1995-05-01</td>\n",
       "      <td>121</td>\n",
       "      <td>5</td>\n",
       "      <td>1995</td>\n",
       "      <td>0</td>\n",
       "      <td>0</td>\n",
       "      <td>0</td>\n",
       "      <td>0</td>\n",
       "      <td>1</td>\n",
       "      <td>0</td>\n",
       "      <td>0</td>\n",
       "      <td>0</td>\n",
       "      <td>0</td>\n",
       "      <td>0</td>\n",
       "      <td>0</td>\n",
       "      <td>0</td>\n",
       "    </tr>\n",
       "  </tbody>\n",
       "</table>\n",
       "</div>"
      ],
      "text/plain": [
       "       Month  Passengers  month  year  1  2  3  4  5  6  7  8  9  10  11  12\n",
       "0 1995-01-01         112      1  1995  1  0  0  0  0  0  0  0  0   0   0   0\n",
       "1 1995-02-01         118      2  1995  0  1  0  0  0  0  0  0  0   0   0   0\n",
       "2 1995-03-01         132      3  1995  0  0  1  0  0  0  0  0  0   0   0   0\n",
       "3 1995-04-01         129      4  1995  0  0  0  1  0  0  0  0  0   0   0   0\n",
       "4 1995-05-01         121      5  1995  0  0  0  0  1  0  0  0  0   0   0   0"
      ]
     },
     "execution_count": 6,
     "metadata": {},
     "output_type": "execute_result"
    }
   ],
   "source": [
    "# Getting dummy variables for months\n",
    "month_Dummies = pd.DataFrame(pd.get_dummies(df['month']))\n",
    "df = pd.concat([df,month_Dummies],axis = 1)\n",
    "df.head()"
   ]
  },
  {
   "cell_type": "code",
   "execution_count": 7,
   "id": "3cc32f37",
   "metadata": {},
   "outputs": [
    {
     "data": {
      "text/plain": [
       "[<matplotlib.lines.Line2D at 0x2436d4fcfa0>]"
      ]
     },
     "execution_count": 7,
     "metadata": {},
     "output_type": "execute_result"
    },
    {
     "data": {
      "image/png": "[encoded data removed]",
      "text/plain": [
       "<Figure size 576x360 with 1 Axes>"
      ]
     },
     "metadata": {
      "needs_background": "light"
     },
     "output_type": "display_data"
    }
   ],
   "source": [
    "# Lineplot for Air Passengers\n",
    "plt.figure(figsize=(8,5))\n",
    "plt.plot(df['Passengers'], linewidth=3)"
   ]
  },
  {
   "cell_type": "code",
   "execution_count": 8,
   "id": "88e200cd",
   "metadata": {},
   "outputs": [
    {
     "data": {
      "text/plain": [
       "<AxesSubplot:xlabel='year', ylabel='Passengers'>"
      ]
     },
     "execution_count": 8,
     "metadata": {},
     "output_type": "execute_result"
    },
    {
     "data": {
      "image/png": "[encoded data removed]",
      "text/plain": [
       "<Figure size 576x360 with 1 Axes>"
      ]
     },
     "metadata": {
      "needs_background": "light"
     },
     "output_type": "display_data"
    }
   ],
   "source": [
    "plt.figure(figsize=(8,5))\n",
    "sns.lineplot(x=\"year\",y=\"Passengers\",data=df)"
   ]
  },
  {
   "cell_type": "code",
   "execution_count": 9,
   "id": "3df3ab28",
   "metadata": {},
   "outputs": [
    {
     "data": {
      "image/png": "[encoded data removed]",
      "text/plain": [
       "<Figure size 432x288 with 1 Axes>"
      ]
     },
     "metadata": {
      "needs_background": "light"
     },
     "output_type": "display_data"
    },
    {
     "data": {
      "image/png": "[encoded data removed]",
      "text/plain": [
       "<Figure size 432x288 with 1 Axes>"
      ]
     },
     "metadata": {
      "needs_background": "light"
     },
     "output_type": "display_data"
    }
   ],
   "source": [
    "import statsmodels.graphics.tsaplots as tsa_plots\n",
    "tsa_plots.plot_acf(df.Passengers,lags=12)\n",
    "tsa_plots.plot_pacf(df.Passengers,lags=12)\n",
    "plt.show()"
   ]
  },
  {
   "cell_type": "markdown",
   "id": "cd560c13",
   "metadata": {},
   "source": [
    "#### Data Driven Forecasting Methods"
   ]
  },
  {
   "cell_type": "code",
   "execution_count": 10,
   "id": "68c9f45e",
   "metadata": {},
   "outputs": [
    {
     "data": {
      "text/plain": [
       "<matplotlib.legend.Legend at 0x2436fbf5c40>"
      ]
     },
     "execution_count": 10,
     "metadata": {},
     "output_type": "execute_result"
    },
    {
     "data": {
      "image/png": "[encoded data removed]",
      "text/plain": [
       "<Figure size 864x288 with 1 Axes>"
      ]
     },
     "metadata": {
      "needs_background": "light"
     },
     "output_type": "display_data"
    }
   ],
   "source": [
    "# Moving Average Method\n",
    "plt.figure(figsize=(12,4))\n",
    "df.Passengers.plot(label=\"org\")\n",
    "for i in range(2,12,2):\n",
    "    df[\"Passengers\"].rolling(i).mean().plot(label=str(i))\n",
    "plt.legend(loc='best')"
   ]
  },
  {
   "cell_type": "code",
   "execution_count": 11,
   "id": "2c95a4d5",
   "metadata": {},
   "outputs": [
    {
     "data": {
      "image/png": "[encoded data removed]",
      "text/plain": [
       "<Figure size 432x288 with 4 Axes>"
      ]
     },
     "metadata": {
      "needs_background": "light"
     },
     "output_type": "display_data"
    }
   ],
   "source": [
    "# Time series decomposition plot\n",
    "from statsmodels.tsa.seasonal import seasonal_decompose\n",
    "\n",
    "decompose_ts_add = seasonal_decompose(df.Passengers,period=12)\n",
    "decompose_ts_add.plot()\n",
    "plt.show()"
   ]
  },
  {
   "cell_type": "code",
   "execution_count": 12,
   "id": "2d06b67b",
   "metadata": {},
   "outputs": [],
   "source": [
    "# Evaluation Metric RMSE\n",
    "def RMSE(org, pred):\n",
    "    rmse=np.sqrt(np.mean((np.array(org)-np.array(pred))**2))\n",
    "    return rmse"
   ]
  },
  {
   "cell_type": "code",
   "execution_count": 13,
   "id": "5d975dbd",
   "metadata": {},
   "outputs": [
    {
     "data": {
      "text/html": [
       "<div>\n",
       "<style scoped>\n",
       "    .dataframe tbody tr th:only-of-type {\n",
       "        vertical-align: middle;\n",
       "    }\n",
       "\n",
       "    .dataframe tbody tr th {\n",
       "        vertical-align: top;\n",
       "    }\n",
       "\n",
       "    .dataframe thead th {\n",
       "        text-align: right;\n",
       "    }\n",
       "</style>\n",
       "<table border=\"1\" class=\"dataframe\">\n",
       "  <thead>\n",
       "    <tr style=\"text-align: right;\">\n",
       "      <th></th>\n",
       "      <th>Month</th>\n",
       "      <th>Passengers</th>\n",
       "      <th>month</th>\n",
       "      <th>year</th>\n",
       "      <th>1</th>\n",
       "      <th>2</th>\n",
       "      <th>3</th>\n",
       "      <th>4</th>\n",
       "      <th>5</th>\n",
       "      <th>6</th>\n",
       "      <th>7</th>\n",
       "      <th>8</th>\n",
       "      <th>9</th>\n",
       "      <th>10</th>\n",
       "      <th>11</th>\n",
       "      <th>12</th>\n",
       "      <th>t</th>\n",
       "      <th>t_squared</th>\n",
       "      <th>log_Passengers</th>\n",
       "    </tr>\n",
       "  </thead>\n",
       "  <tbody>\n",
       "    <tr>\n",
       "      <th>0</th>\n",
       "      <td>1995-01-01</td>\n",
       "      <td>112</td>\n",
       "      <td>1</td>\n",
       "      <td>1995</td>\n",
       "      <td>1</td>\n",
       "      <td>0</td>\n",
       "      <td>0</td>\n",
       "      <td>0</td>\n",
       "      <td>0</td>\n",
       "      <td>0</td>\n",
       "      <td>0</td>\n",
       "      <td>0</td>\n",
       "      <td>0</td>\n",
       "      <td>0</td>\n",
       "      <td>0</td>\n",
       "      <td>0</td>\n",
       "      <td>1</td>\n",
       "      <td>1</td>\n",
       "      <td>4.718499</td>\n",
       "    </tr>\n",
       "    <tr>\n",
       "      <th>1</th>\n",
       "      <td>1995-02-01</td>\n",
       "      <td>118</td>\n",
       "      <td>2</td>\n",
       "      <td>1995</td>\n",
       "      <td>0</td>\n",
       "      <td>1</td>\n",
       "      <td>0</td>\n",
       "      <td>0</td>\n",
       "      <td>0</td>\n",
       "      <td>0</td>\n",
       "      <td>0</td>\n",
       "      <td>0</td>\n",
       "      <td>0</td>\n",
       "      <td>0</td>\n",
       "      <td>0</td>\n",
       "      <td>0</td>\n",
       "      <td>2</td>\n",
       "      <td>4</td>\n",
       "      <td>4.770685</td>\n",
       "    </tr>\n",
       "    <tr>\n",
       "      <th>2</th>\n",
       "      <td>1995-03-01</td>\n",
       "      <td>132</td>\n",
       "      <td>3</td>\n",
       "      <td>1995</td>\n",
       "      <td>0</td>\n",
       "      <td>0</td>\n",
       "      <td>1</td>\n",
       "      <td>0</td>\n",
       "      <td>0</td>\n",
       "      <td>0</td>\n",
       "      <td>0</td>\n",
       "      <td>0</td>\n",
       "      <td>0</td>\n",
       "      <td>0</td>\n",
       "      <td>0</td>\n",
       "      <td>0</td>\n",
       "      <td>3</td>\n",
       "      <td>9</td>\n",
       "      <td>4.882802</td>\n",
       "    </tr>\n",
       "    <tr>\n",
       "      <th>3</th>\n",
       "      <td>1995-04-01</td>\n",
       "      <td>129</td>\n",
       "      <td>4</td>\n",
       "      <td>1995</td>\n",
       "      <td>0</td>\n",
       "      <td>0</td>\n",
       "      <td>0</td>\n",
       "      <td>1</td>\n",
       "      <td>0</td>\n",
       "      <td>0</td>\n",
       "      <td>0</td>\n",
       "      <td>0</td>\n",
       "      <td>0</td>\n",
       "      <td>0</td>\n",
       "      <td>0</td>\n",
       "      <td>0</td>\n",
       "      <td>4</td>\n",
       "      <td>16</td>\n",
       "      <td>4.859812</td>\n",
       "    </tr>\n",
       "    <tr>\n",
       "      <th>4</th>\n",
       "      <td>1995-05-01</td>\n",
       "      <td>121</td>\n",
       "      <td>5</td>\n",
       "      <td>1995</td>\n",
       "      <td>0</td>\n",
       "      <td>0</td>\n",
       "      <td>0</td>\n",
       "      <td>0</td>\n",
       "      <td>1</td>\n",
       "      <td>0</td>\n",
       "      <td>0</td>\n",
       "      <td>0</td>\n",
       "      <td>0</td>\n",
       "      <td>0</td>\n",
       "      <td>0</td>\n",
       "      <td>0</td>\n",
       "      <td>5</td>\n",
       "      <td>25</td>\n",
       "      <td>4.795791</td>\n",
       "    </tr>\n",
       "  </tbody>\n",
       "</table>\n",
       "</div>"
      ],
      "text/plain": [
       "       Month  Passengers  month  year  1  2  3  4  5  6  7  8  9  10  11  12  \\\n",
       "0 1995-01-01         112      1  1995  1  0  0  0  0  0  0  0  0   0   0   0   \n",
       "1 1995-02-01         118      2  1995  0  1  0  0  0  0  0  0  0   0   0   0   \n",
       "2 1995-03-01         132      3  1995  0  0  1  0  0  0  0  0  0   0   0   0   \n",
       "3 1995-04-01         129      4  1995  0  0  0  1  0  0  0  0  0   0   0   0   \n",
       "4 1995-05-01         121      5  1995  0  0  0  0  1  0  0  0  0   0   0   0   \n",
       "\n",
       "   t  t_squared  log_Passengers  \n",
       "0  1          1        4.718499  \n",
       "1  2          4        4.770685  \n",
       "2  3          9        4.882802  \n",
       "3  4         16        4.859812  \n",
       "4  5         25        4.795791  "
      ]
     },
     "execution_count": 13,
     "metadata": {},
     "output_type": "execute_result"
    }
   ],
   "source": [
    "# Model based Forecasting Methods\n",
    "# Data preprocessing for models\n",
    "df[\"t\"] = np.arange(1,97)\n",
    "df[\"t_squared\"] = df[\"t\"]*df[\"t\"]\n",
    "\n",
    "df[\"log_Passengers\"] = np.log(df[\"Passengers\"])\n",
    "\n",
    "df.head()"
   ]
  },
  {
   "cell_type": "code",
   "execution_count": 14,
   "id": "ba122b0b",
   "metadata": {},
   "outputs": [
    {
     "data": {
      "text/html": [
       "<div>\n",
       "<style scoped>\n",
       "    .dataframe tbody tr th:only-of-type {\n",
       "        vertical-align: middle;\n",
       "    }\n",
       "\n",
       "    .dataframe tbody tr th {\n",
       "        vertical-align: top;\n",
       "    }\n",
       "\n",
       "    .dataframe thead th {\n",
       "        text-align: right;\n",
       "    }\n",
       "</style>\n",
       "<table border=\"1\" class=\"dataframe\">\n",
       "  <thead>\n",
       "    <tr style=\"text-align: right;\">\n",
       "      <th></th>\n",
       "      <th>Month</th>\n",
       "      <th>Passengers</th>\n",
       "      <th>month</th>\n",
       "      <th>year</th>\n",
       "      <th>m1</th>\n",
       "      <th>m2</th>\n",
       "      <th>m3</th>\n",
       "      <th>m4</th>\n",
       "      <th>m5</th>\n",
       "      <th>m6</th>\n",
       "      <th>m7</th>\n",
       "      <th>m8</th>\n",
       "      <th>m9</th>\n",
       "      <th>m10</th>\n",
       "      <th>m11</th>\n",
       "      <th>m12</th>\n",
       "      <th>t</th>\n",
       "      <th>t_squared</th>\n",
       "      <th>log_Passengers</th>\n",
       "    </tr>\n",
       "  </thead>\n",
       "  <tbody>\n",
       "    <tr>\n",
       "      <th>0</th>\n",
       "      <td>1995-01-01</td>\n",
       "      <td>112</td>\n",
       "      <td>1</td>\n",
       "      <td>1995</td>\n",
       "      <td>1</td>\n",
       "      <td>0</td>\n",
       "      <td>0</td>\n",
       "      <td>0</td>\n",
       "      <td>0</td>\n",
       "      <td>0</td>\n",
       "      <td>0</td>\n",
       "      <td>0</td>\n",
       "      <td>0</td>\n",
       "      <td>0</td>\n",
       "      <td>0</td>\n",
       "      <td>0</td>\n",
       "      <td>1</td>\n",
       "      <td>1</td>\n",
       "      <td>4.718499</td>\n",
       "    </tr>\n",
       "    <tr>\n",
       "      <th>1</th>\n",
       "      <td>1995-02-01</td>\n",
       "      <td>118</td>\n",
       "      <td>2</td>\n",
       "      <td>1995</td>\n",
       "      <td>0</td>\n",
       "      <td>1</td>\n",
       "      <td>0</td>\n",
       "      <td>0</td>\n",
       "      <td>0</td>\n",
       "      <td>0</td>\n",
       "      <td>0</td>\n",
       "      <td>0</td>\n",
       "      <td>0</td>\n",
       "      <td>0</td>\n",
       "      <td>0</td>\n",
       "      <td>0</td>\n",
       "      <td>2</td>\n",
       "      <td>4</td>\n",
       "      <td>4.770685</td>\n",
       "    </tr>\n",
       "    <tr>\n",
       "      <th>2</th>\n",
       "      <td>1995-03-01</td>\n",
       "      <td>132</td>\n",
       "      <td>3</td>\n",
       "      <td>1995</td>\n",
       "      <td>0</td>\n",
       "      <td>0</td>\n",
       "      <td>1</td>\n",
       "      <td>0</td>\n",
       "      <td>0</td>\n",
       "      <td>0</td>\n",
       "      <td>0</td>\n",
       "      <td>0</td>\n",
       "      <td>0</td>\n",
       "      <td>0</td>\n",
       "      <td>0</td>\n",
       "      <td>0</td>\n",
       "      <td>3</td>\n",
       "      <td>9</td>\n",
       "      <td>4.882802</td>\n",
       "    </tr>\n",
       "    <tr>\n",
       "      <th>3</th>\n",
       "      <td>1995-04-01</td>\n",
       "      <td>129</td>\n",
       "      <td>4</td>\n",
       "      <td>1995</td>\n",
       "      <td>0</td>\n",
       "      <td>0</td>\n",
       "      <td>0</td>\n",
       "      <td>1</td>\n",
       "      <td>0</td>\n",
       "      <td>0</td>\n",
       "      <td>0</td>\n",
       "      <td>0</td>\n",
       "      <td>0</td>\n",
       "      <td>0</td>\n",
       "      <td>0</td>\n",
       "      <td>0</td>\n",
       "      <td>4</td>\n",
       "      <td>16</td>\n",
       "      <td>4.859812</td>\n",
       "    </tr>\n",
       "    <tr>\n",
       "      <th>4</th>\n",
       "      <td>1995-05-01</td>\n",
       "      <td>121</td>\n",
       "      <td>5</td>\n",
       "      <td>1995</td>\n",
       "      <td>0</td>\n",
       "      <td>0</td>\n",
       "      <td>0</td>\n",
       "      <td>0</td>\n",
       "      <td>1</td>\n",
       "      <td>0</td>\n",
       "      <td>0</td>\n",
       "      <td>0</td>\n",
       "      <td>0</td>\n",
       "      <td>0</td>\n",
       "      <td>0</td>\n",
       "      <td>0</td>\n",
       "      <td>5</td>\n",
       "      <td>25</td>\n",
       "      <td>4.795791</td>\n",
       "    </tr>\n",
       "  </tbody>\n",
       "</table>\n",
       "</div>"
      ],
      "text/plain": [
       "       Month  Passengers  month  year  m1  m2  m3  m4  m5  m6  m7  m8  m9  \\\n",
       "0 1995-01-01         112      1  1995   1   0   0   0   0   0   0   0   0   \n",
       "1 1995-02-01         118      2  1995   0   1   0   0   0   0   0   0   0   \n",
       "2 1995-03-01         132      3  1995   0   0   1   0   0   0   0   0   0   \n",
       "3 1995-04-01         129      4  1995   0   0   0   1   0   0   0   0   0   \n",
       "4 1995-05-01         121      5  1995   0   0   0   0   1   0   0   0   0   \n",
       "\n",
       "   m10  m11  m12  t  t_squared  log_Passengers  \n",
       "0    0    0    0  1          1        4.718499  \n",
       "1    0    0    0  2          4        4.770685  \n",
       "2    0    0    0  3          9        4.882802  \n",
       "3    0    0    0  4         16        4.859812  \n",
       "4    0    0    0  5         25        4.795791  "
      ]
     },
     "execution_count": 14,
     "metadata": {},
     "output_type": "execute_result"
    }
   ],
   "source": [
    "column_indices = [4,5,6,7,8,9,10,11,12,13,14,15]\n",
    "new_names = ['m1','m2','m3','m4','m5','m6','m7','m8','m9','m10','m11','m12']\n",
    "old_names = df.columns[column_indices]\n",
    "df.rename(columns=dict(zip(old_names, new_names)), inplace=True)\n",
    "df.head()"
   ]
  },
  {
   "cell_type": "code",
   "execution_count": 15,
   "id": "0a1c6375",
   "metadata": {},
   "outputs": [],
   "source": [
    "# Splitting data into Train and Test\n",
    "Train = df.head(86)\n",
    "Test = df.tail(10)"
   ]
  },
  {
   "cell_type": "code",
   "execution_count": 16,
   "id": "d9cdc8cc",
   "metadata": {},
   "outputs": [
    {
     "data": {
      "text/html": [
       "<div>\n",
       "<style scoped>\n",
       "    .dataframe tbody tr th:only-of-type {\n",
       "        vertical-align: middle;\n",
       "    }\n",
       "\n",
       "    .dataframe tbody tr th {\n",
       "        vertical-align: top;\n",
       "    }\n",
       "\n",
       "    .dataframe thead th {\n",
       "        text-align: right;\n",
       "    }\n",
       "</style>\n",
       "<table border=\"1\" class=\"dataframe\">\n",
       "  <thead>\n",
       "    <tr style=\"text-align: right;\">\n",
       "      <th></th>\n",
       "      <th>Month</th>\n",
       "      <th>Passengers</th>\n",
       "      <th>month</th>\n",
       "      <th>year</th>\n",
       "      <th>m1</th>\n",
       "      <th>m2</th>\n",
       "      <th>m3</th>\n",
       "      <th>m4</th>\n",
       "      <th>m5</th>\n",
       "      <th>m6</th>\n",
       "      <th>m7</th>\n",
       "      <th>m8</th>\n",
       "      <th>m9</th>\n",
       "      <th>m10</th>\n",
       "      <th>m11</th>\n",
       "      <th>m12</th>\n",
       "      <th>t</th>\n",
       "      <th>t_squared</th>\n",
       "      <th>log_Passengers</th>\n",
       "    </tr>\n",
       "  </thead>\n",
       "  <tbody>\n",
       "    <tr>\n",
       "      <th>0</th>\n",
       "      <td>1995-01-01</td>\n",
       "      <td>112</td>\n",
       "      <td>1</td>\n",
       "      <td>1995</td>\n",
       "      <td>1</td>\n",
       "      <td>0</td>\n",
       "      <td>0</td>\n",
       "      <td>0</td>\n",
       "      <td>0</td>\n",
       "      <td>0</td>\n",
       "      <td>0</td>\n",
       "      <td>0</td>\n",
       "      <td>0</td>\n",
       "      <td>0</td>\n",
       "      <td>0</td>\n",
       "      <td>0</td>\n",
       "      <td>1</td>\n",
       "      <td>1</td>\n",
       "      <td>4.718499</td>\n",
       "    </tr>\n",
       "    <tr>\n",
       "      <th>1</th>\n",
       "      <td>1995-02-01</td>\n",
       "      <td>118</td>\n",
       "      <td>2</td>\n",
       "      <td>1995</td>\n",
       "      <td>0</td>\n",
       "      <td>1</td>\n",
       "      <td>0</td>\n",
       "      <td>0</td>\n",
       "      <td>0</td>\n",
       "      <td>0</td>\n",
       "      <td>0</td>\n",
       "      <td>0</td>\n",
       "      <td>0</td>\n",
       "      <td>0</td>\n",
       "      <td>0</td>\n",
       "      <td>0</td>\n",
       "      <td>2</td>\n",
       "      <td>4</td>\n",
       "      <td>4.770685</td>\n",
       "    </tr>\n",
       "    <tr>\n",
       "      <th>2</th>\n",
       "      <td>1995-03-01</td>\n",
       "      <td>132</td>\n",
       "      <td>3</td>\n",
       "      <td>1995</td>\n",
       "      <td>0</td>\n",
       "      <td>0</td>\n",
       "      <td>1</td>\n",
       "      <td>0</td>\n",
       "      <td>0</td>\n",
       "      <td>0</td>\n",
       "      <td>0</td>\n",
       "      <td>0</td>\n",
       "      <td>0</td>\n",
       "      <td>0</td>\n",
       "      <td>0</td>\n",
       "      <td>0</td>\n",
       "      <td>3</td>\n",
       "      <td>9</td>\n",
       "      <td>4.882802</td>\n",
       "    </tr>\n",
       "    <tr>\n",
       "      <th>3</th>\n",
       "      <td>1995-04-01</td>\n",
       "      <td>129</td>\n",
       "      <td>4</td>\n",
       "      <td>1995</td>\n",
       "      <td>0</td>\n",
       "      <td>0</td>\n",
       "      <td>0</td>\n",
       "      <td>1</td>\n",
       "      <td>0</td>\n",
       "      <td>0</td>\n",
       "      <td>0</td>\n",
       "      <td>0</td>\n",
       "      <td>0</td>\n",
       "      <td>0</td>\n",
       "      <td>0</td>\n",
       "      <td>0</td>\n",
       "      <td>4</td>\n",
       "      <td>16</td>\n",
       "      <td>4.859812</td>\n",
       "    </tr>\n",
       "    <tr>\n",
       "      <th>4</th>\n",
       "      <td>1995-05-01</td>\n",
       "      <td>121</td>\n",
       "      <td>5</td>\n",
       "      <td>1995</td>\n",
       "      <td>0</td>\n",
       "      <td>0</td>\n",
       "      <td>0</td>\n",
       "      <td>0</td>\n",
       "      <td>1</td>\n",
       "      <td>0</td>\n",
       "      <td>0</td>\n",
       "      <td>0</td>\n",
       "      <td>0</td>\n",
       "      <td>0</td>\n",
       "      <td>0</td>\n",
       "      <td>0</td>\n",
       "      <td>5</td>\n",
       "      <td>25</td>\n",
       "      <td>4.795791</td>\n",
       "    </tr>\n",
       "  </tbody>\n",
       "</table>\n",
       "</div>"
      ],
      "text/plain": [
       "       Month  Passengers  month  year  m1  m2  m3  m4  m5  m6  m7  m8  m9  \\\n",
       "0 1995-01-01         112      1  1995   1   0   0   0   0   0   0   0   0   \n",
       "1 1995-02-01         118      2  1995   0   1   0   0   0   0   0   0   0   \n",
       "2 1995-03-01         132      3  1995   0   0   1   0   0   0   0   0   0   \n",
       "3 1995-04-01         129      4  1995   0   0   0   1   0   0   0   0   0   \n",
       "4 1995-05-01         121      5  1995   0   0   0   0   1   0   0   0   0   \n",
       "\n",
       "   m10  m11  m12  t  t_squared  log_Passengers  \n",
       "0    0    0    0  1          1        4.718499  \n",
       "1    0    0    0  2          4        4.770685  \n",
       "2    0    0    0  3          9        4.882802  \n",
       "3    0    0    0  4         16        4.859812  \n",
       "4    0    0    0  5         25        4.795791  "
      ]
     },
     "execution_count": 16,
     "metadata": {},
     "output_type": "execute_result"
    }
   ],
   "source": [
    "Train.head()"
   ]
  },
  {
   "cell_type": "code",
   "execution_count": 17,
   "id": "d652e1a6",
   "metadata": {},
   "outputs": [
    {
     "data": {
      "text/html": [
       "<div>\n",
       "<style scoped>\n",
       "    .dataframe tbody tr th:only-of-type {\n",
       "        vertical-align: middle;\n",
       "    }\n",
       "\n",
       "    .dataframe tbody tr th {\n",
       "        vertical-align: top;\n",
       "    }\n",
       "\n",
       "    .dataframe thead th {\n",
       "        text-align: right;\n",
       "    }\n",
       "</style>\n",
       "<table border=\"1\" class=\"dataframe\">\n",
       "  <thead>\n",
       "    <tr style=\"text-align: right;\">\n",
       "      <th></th>\n",
       "      <th>Month</th>\n",
       "      <th>Passengers</th>\n",
       "      <th>month</th>\n",
       "      <th>year</th>\n",
       "      <th>m1</th>\n",
       "      <th>m2</th>\n",
       "      <th>m3</th>\n",
       "      <th>m4</th>\n",
       "      <th>m5</th>\n",
       "      <th>m6</th>\n",
       "      <th>m7</th>\n",
       "      <th>m8</th>\n",
       "      <th>m9</th>\n",
       "      <th>m10</th>\n",
       "      <th>m11</th>\n",
       "      <th>m12</th>\n",
       "      <th>t</th>\n",
       "      <th>t_squared</th>\n",
       "      <th>log_Passengers</th>\n",
       "    </tr>\n",
       "  </thead>\n",
       "  <tbody>\n",
       "    <tr>\n",
       "      <th>86</th>\n",
       "      <td>2002-03-01</td>\n",
       "      <td>317</td>\n",
       "      <td>3</td>\n",
       "      <td>2002</td>\n",
       "      <td>0</td>\n",
       "      <td>0</td>\n",
       "      <td>1</td>\n",
       "      <td>0</td>\n",
       "      <td>0</td>\n",
       "      <td>0</td>\n",
       "      <td>0</td>\n",
       "      <td>0</td>\n",
       "      <td>0</td>\n",
       "      <td>0</td>\n",
       "      <td>0</td>\n",
       "      <td>0</td>\n",
       "      <td>87</td>\n",
       "      <td>7569</td>\n",
       "      <td>5.758902</td>\n",
       "    </tr>\n",
       "    <tr>\n",
       "      <th>87</th>\n",
       "      <td>2002-04-01</td>\n",
       "      <td>313</td>\n",
       "      <td>4</td>\n",
       "      <td>2002</td>\n",
       "      <td>0</td>\n",
       "      <td>0</td>\n",
       "      <td>0</td>\n",
       "      <td>1</td>\n",
       "      <td>0</td>\n",
       "      <td>0</td>\n",
       "      <td>0</td>\n",
       "      <td>0</td>\n",
       "      <td>0</td>\n",
       "      <td>0</td>\n",
       "      <td>0</td>\n",
       "      <td>0</td>\n",
       "      <td>88</td>\n",
       "      <td>7744</td>\n",
       "      <td>5.746203</td>\n",
       "    </tr>\n",
       "    <tr>\n",
       "      <th>88</th>\n",
       "      <td>2002-05-01</td>\n",
       "      <td>318</td>\n",
       "      <td>5</td>\n",
       "      <td>2002</td>\n",
       "      <td>0</td>\n",
       "      <td>0</td>\n",
       "      <td>0</td>\n",
       "      <td>0</td>\n",
       "      <td>1</td>\n",
       "      <td>0</td>\n",
       "      <td>0</td>\n",
       "      <td>0</td>\n",
       "      <td>0</td>\n",
       "      <td>0</td>\n",
       "      <td>0</td>\n",
       "      <td>0</td>\n",
       "      <td>89</td>\n",
       "      <td>7921</td>\n",
       "      <td>5.762051</td>\n",
       "    </tr>\n",
       "    <tr>\n",
       "      <th>89</th>\n",
       "      <td>2002-06-01</td>\n",
       "      <td>374</td>\n",
       "      <td>6</td>\n",
       "      <td>2002</td>\n",
       "      <td>0</td>\n",
       "      <td>0</td>\n",
       "      <td>0</td>\n",
       "      <td>0</td>\n",
       "      <td>0</td>\n",
       "      <td>1</td>\n",
       "      <td>0</td>\n",
       "      <td>0</td>\n",
       "      <td>0</td>\n",
       "      <td>0</td>\n",
       "      <td>0</td>\n",
       "      <td>0</td>\n",
       "      <td>90</td>\n",
       "      <td>8100</td>\n",
       "      <td>5.924256</td>\n",
       "    </tr>\n",
       "    <tr>\n",
       "      <th>90</th>\n",
       "      <td>2002-07-01</td>\n",
       "      <td>413</td>\n",
       "      <td>7</td>\n",
       "      <td>2002</td>\n",
       "      <td>0</td>\n",
       "      <td>0</td>\n",
       "      <td>0</td>\n",
       "      <td>0</td>\n",
       "      <td>0</td>\n",
       "      <td>0</td>\n",
       "      <td>1</td>\n",
       "      <td>0</td>\n",
       "      <td>0</td>\n",
       "      <td>0</td>\n",
       "      <td>0</td>\n",
       "      <td>0</td>\n",
       "      <td>91</td>\n",
       "      <td>8281</td>\n",
       "      <td>6.023448</td>\n",
       "    </tr>\n",
       "  </tbody>\n",
       "</table>\n",
       "</div>"
      ],
      "text/plain": [
       "        Month  Passengers  month  year  m1  m2  m3  m4  m5  m6  m7  m8  m9  \\\n",
       "86 2002-03-01         317      3  2002   0   0   1   0   0   0   0   0   0   \n",
       "87 2002-04-01         313      4  2002   0   0   0   1   0   0   0   0   0   \n",
       "88 2002-05-01         318      5  2002   0   0   0   0   1   0   0   0   0   \n",
       "89 2002-06-01         374      6  2002   0   0   0   0   0   1   0   0   0   \n",
       "90 2002-07-01         413      7  2002   0   0   0   0   0   0   1   0   0   \n",
       "\n",
       "    m10  m11  m12   t  t_squared  log_Passengers  \n",
       "86    0    0    0  87       7569        5.758902  \n",
       "87    0    0    0  88       7744        5.746203  \n",
       "88    0    0    0  89       7921        5.762051  \n",
       "89    0    0    0  90       8100        5.924256  \n",
       "90    0    0    0  91       8281        6.023448  "
      ]
     },
     "execution_count": 17,
     "metadata": {},
     "output_type": "execute_result"
    }
   ],
   "source": [
    "Test.head()"
   ]
  },
  {
   "cell_type": "code",
   "execution_count": 18,
   "id": "f0f6feec",
   "metadata": {},
   "outputs": [
    {
     "data": {
      "text/plain": [
       "58.64314972778256"
      ]
     },
     "execution_count": 18,
     "metadata": {},
     "output_type": "execute_result"
    }
   ],
   "source": [
    "# Linear Model\n",
    "import statsmodels.formula.api as smf \n",
    "\n",
    "linear_model = smf.ols('Passengers~t',data=Train).fit()\n",
    "pred_linear =  pd.Series(linear_model.predict(pd.DataFrame(Test['t'])))\n",
    "rmse_linear = RMSE(Test['Passengers'], pred_linear)\n",
    "rmse_linear"
   ]
  },
  {
   "cell_type": "code",
   "execution_count": 19,
   "id": "34855a92",
   "metadata": {},
   "outputs": [
    {
     "data": {
      "text/plain": [
       "49.90312334789315"
      ]
     },
     "execution_count": 19,
     "metadata": {},
     "output_type": "execute_result"
    }
   ],
   "source": [
    "# Exponential Model\n",
    "Exp = smf.ols('log_Passengers~t',data=Train).fit()\n",
    "pred_Exp = pd.Series(Exp.predict(pd.DataFrame(Test['t'])))\n",
    "rmse_exp = RMSE(Test['Passengers'], np.exp(pred_Exp))\n",
    "rmse_exp"
   ]
  },
  {
   "cell_type": "code",
   "execution_count": 20,
   "id": "f6249756",
   "metadata": {},
   "outputs": [
    {
     "data": {
      "text/plain": [
       "53.91436357852567"
      ]
     },
     "execution_count": 20,
     "metadata": {},
     "output_type": "execute_result"
    }
   ],
   "source": [
    "# Quadratic Model\n",
    "Quad = smf.ols('Passengers~t+t_squared',data=Train).fit()\n",
    "pred_Quad = pd.Series(Quad.predict(Test[[\"t\",\"t_squared\"]]))\n",
    "rmse_quad = RMSE(Test['Passengers'], pred_Quad)\n",
    "rmse_quad"
   ]
  },
  {
   "cell_type": "code",
   "execution_count": 21,
   "id": "7d6b1879",
   "metadata": {},
   "outputs": [
    {
     "data": {
      "text/plain": [
       "136.79010436819325"
      ]
     },
     "execution_count": 21,
     "metadata": {},
     "output_type": "execute_result"
    }
   ],
   "source": [
    "# Additive Seasonality model\n",
    "add_sea = smf.ols('Passengers~m1+m2+m3+m4+m5+m6+m7+m8+m9+m10+m11+m12',data=Train).fit()\n",
    "pred_add_sea = pd.Series(add_sea.predict(Test[['m1','m2','m3','m4','m5','m6','m7','m8','m9','m10','m11','m12']]))\n",
    "rmse_add_sea = RMSE(Test['Passengers'], pred_add_sea)\n",
    "rmse_add_sea"
   ]
  },
  {
   "cell_type": "code",
   "execution_count": 23,
   "id": "3886a521",
   "metadata": {},
   "outputs": [
    {
     "data": {
      "text/plain": [
       "38.10357859002937"
      ]
     },
     "execution_count": 23,
     "metadata": {},
     "output_type": "execute_result"
    }
   ],
   "source": [
    "# Additive seasonality with linear trend\n",
    "add_sea_lin = smf.ols('Passengers~t+m1+m2+m3+m4+m5+m6+m7+m8+m9+m10+m11+m12',data=Train).fit()\n",
    "pred_add_sea_lin = pd.Series(add_sea_lin.predict(Test[['t','m1','m2','m3','m4','m5','m6','m7','m8','m9','m10','m11','m12']]))\n",
    "rmse_add_sea_lin = RMSE(Test['Passengers'], pred_add_sea_lin)\n",
    "rmse_add_sea_lin "
   ]
  },
  {
   "cell_type": "code",
   "execution_count": 24,
   "id": "ab5c7f7f",
   "metadata": {},
   "outputs": [
    {
     "data": {
      "text/plain": [
       "29.1045498992376"
      ]
     },
     "execution_count": 24,
     "metadata": {},
     "output_type": "execute_result"
    }
   ],
   "source": [
    "# Additive Seasonality Quadratic model\n",
    "add_sea_Quad = smf.ols('Passengers~t+t_squared+m1+m2+m3+m4+m5+m6+m7+m8+m9+m10+m11+m12',data=Train).fit()\n",
    "pred_add_sea_quad = pd.Series(add_sea_Quad.predict(Test[['m1','m2','m3','m4','m5','m6','m7','m8','m9','m10','m11','m12','t','t_squared']]))\n",
    "rmse_add_sea_quad = RMSE(Test['Passengers'], pred_add_sea_quad)\n",
    "rmse_add_sea_quad "
   ]
  },
  {
   "cell_type": "code",
   "execution_count": 25,
   "id": "04584375",
   "metadata": {},
   "outputs": [
    {
     "data": {
      "text/plain": [
       "144.38493549461444"
      ]
     },
     "execution_count": 25,
     "metadata": {},
     "output_type": "execute_result"
    }
   ],
   "source": [
    "# Multiplicative Seasonality model\n",
    "Mul_sea = smf.ols('log_Passengers~m1+m2+m3+m4+m5+m6+m7+m8+m9+m10+m11+m12',data=Train).fit()\n",
    "pred_Mult_sea = pd.Series(Mul_sea.predict(Test))\n",
    "rmse_Mul_sea = RMSE(Test['Passengers'], np.exp(pred_Mult_sea))\n",
    "rmse_Mul_sea"
   ]
  },
  {
   "cell_type": "code",
   "execution_count": 30,
   "id": "1a5f5a94",
   "metadata": {},
   "outputs": [
    {
     "data": {
      "text/plain": [
       "11.26495833043119"
      ]
     },
     "execution_count": 30,
     "metadata": {},
     "output_type": "execute_result"
    }
   ],
   "source": [
    "# Multiplicative seasonality with quadratic trend\n",
    "Mul_Add_sea = smf.ols('log_Passengers~t+m1+m2+m3+m4+m5+m6+m7+m8+m9+m10+m11+m12',data = Train).fit()\n",
    "pred_Mul_add_sea = pd.Series(Mul_Add_sea .predict(Test[['m1','m2','m3','m4','m5','m6','m7','m8','m9','m10','m11','m12','t','t_squared']]))\n",
    "rmse_Mul_add_sea = RMSE(Test['Passengers'], np.exp(pred_Mul_add_sea))\n",
    "rmse_Mul_add_sea"
   ]
  },
  {
   "cell_type": "code",
   "execution_count": 27,
   "id": "6f6e13db",
   "metadata": {},
   "outputs": [],
   "source": [
    "list = [['Linear Mode',rmse_linear], ['Exp model',rmse_exp],\n",
    "        ['Quad model',rmse_quad], ['add seasonality',rmse_add_sea],\n",
    "        ['Linear add seasonality',rmse_add_sea_lin], ['Quad add seasonality',rmse_add_sea_quad],\n",
    "        ['Mult Seasonality',rmse_Mul_sea],['Mult add seasonality',rmse_Mul_add_sea]]"
   ]
  },
  {
   "cell_type": "code",
   "execution_count": 28,
   "id": "4bee5d0e",
   "metadata": {},
   "outputs": [
    {
     "data": {
      "text/html": [
       "<div>\n",
       "<style scoped>\n",
       "    .dataframe tbody tr th:only-of-type {\n",
       "        vertical-align: middle;\n",
       "    }\n",
       "\n",
       "    .dataframe tbody tr th {\n",
       "        vertical-align: top;\n",
       "    }\n",
       "\n",
       "    .dataframe thead th {\n",
       "        text-align: right;\n",
       "    }\n",
       "</style>\n",
       "<table border=\"1\" class=\"dataframe\">\n",
       "  <thead>\n",
       "    <tr style=\"text-align: right;\">\n",
       "      <th></th>\n",
       "      <th>Model</th>\n",
       "      <th>RMSE_Value</th>\n",
       "    </tr>\n",
       "  </thead>\n",
       "  <tbody>\n",
       "    <tr>\n",
       "      <th>0</th>\n",
       "      <td>Linear Mode</td>\n",
       "      <td>58.643150</td>\n",
       "    </tr>\n",
       "    <tr>\n",
       "      <th>1</th>\n",
       "      <td>Exp model</td>\n",
       "      <td>49.903123</td>\n",
       "    </tr>\n",
       "    <tr>\n",
       "      <th>2</th>\n",
       "      <td>Quad model</td>\n",
       "      <td>53.914364</td>\n",
       "    </tr>\n",
       "    <tr>\n",
       "      <th>3</th>\n",
       "      <td>add seasonality</td>\n",
       "      <td>136.790104</td>\n",
       "    </tr>\n",
       "    <tr>\n",
       "      <th>4</th>\n",
       "      <td>Linear add seasonality</td>\n",
       "      <td>38.103579</td>\n",
       "    </tr>\n",
       "    <tr>\n",
       "      <th>5</th>\n",
       "      <td>Quad add seasonality</td>\n",
       "      <td>29.104550</td>\n",
       "    </tr>\n",
       "    <tr>\n",
       "      <th>6</th>\n",
       "      <td>Mult Seasonality</td>\n",
       "      <td>144.384935</td>\n",
       "    </tr>\n",
       "    <tr>\n",
       "      <th>7</th>\n",
       "      <td>Mult add seasonality</td>\n",
       "      <td>11.264958</td>\n",
       "    </tr>\n",
       "  </tbody>\n",
       "</table>\n",
       "</div>"
      ],
      "text/plain": [
       "                    Model  RMSE_Value\n",
       "0             Linear Mode   58.643150\n",
       "1               Exp model   49.903123\n",
       "2              Quad model   53.914364\n",
       "3         add seasonality  136.790104\n",
       "4  Linear add seasonality   38.103579\n",
       "5    Quad add seasonality   29.104550\n",
       "6        Mult Seasonality  144.384935\n",
       "7    Mult add seasonality   11.264958"
      ]
     },
     "execution_count": 28,
     "metadata": {},
     "output_type": "execute_result"
    }
   ],
   "source": [
    "data= pd.DataFrame(list, columns =['Model', 'RMSE_Value']) \n",
    "data"
   ]
  },
  {
   "cell_type": "markdown",
   "id": "bc874d34",
   "metadata": {},
   "source": [
    "### Building final model with least RMSE value"
   ]
  },
  {
   "cell_type": "code",
   "execution_count": 29,
   "id": "571de22f",
   "metadata": {},
   "outputs": [
    {
     "data": {
      "text/html": [
       "<div>\n",
       "<style scoped>\n",
       "    .dataframe tbody tr th:only-of-type {\n",
       "        vertical-align: middle;\n",
       "    }\n",
       "\n",
       "    .dataframe tbody tr th {\n",
       "        vertical-align: top;\n",
       "    }\n",
       "\n",
       "    .dataframe thead th {\n",
       "        text-align: right;\n",
       "    }\n",
       "</style>\n",
       "<table border=\"1\" class=\"dataframe\">\n",
       "  <thead>\n",
       "    <tr style=\"text-align: right;\">\n",
       "      <th></th>\n",
       "      <th>Month</th>\n",
       "      <th>Passengers</th>\n",
       "      <th>month</th>\n",
       "      <th>year</th>\n",
       "      <th>m1</th>\n",
       "      <th>m2</th>\n",
       "      <th>m3</th>\n",
       "      <th>m4</th>\n",
       "      <th>m5</th>\n",
       "      <th>m6</th>\n",
       "      <th>m7</th>\n",
       "      <th>m8</th>\n",
       "      <th>m9</th>\n",
       "      <th>m10</th>\n",
       "      <th>m11</th>\n",
       "      <th>m12</th>\n",
       "      <th>t</th>\n",
       "      <th>t_squared</th>\n",
       "      <th>log_Passengers</th>\n",
       "    </tr>\n",
       "  </thead>\n",
       "  <tbody>\n",
       "    <tr>\n",
       "      <th>0</th>\n",
       "      <td>1995-01-01</td>\n",
       "      <td>112</td>\n",
       "      <td>1</td>\n",
       "      <td>1995</td>\n",
       "      <td>1</td>\n",
       "      <td>0</td>\n",
       "      <td>0</td>\n",
       "      <td>0</td>\n",
       "      <td>0</td>\n",
       "      <td>0</td>\n",
       "      <td>0</td>\n",
       "      <td>0</td>\n",
       "      <td>0</td>\n",
       "      <td>0</td>\n",
       "      <td>0</td>\n",
       "      <td>0</td>\n",
       "      <td>1</td>\n",
       "      <td>1</td>\n",
       "      <td>4.718499</td>\n",
       "    </tr>\n",
       "    <tr>\n",
       "      <th>1</th>\n",
       "      <td>1995-02-01</td>\n",
       "      <td>118</td>\n",
       "      <td>2</td>\n",
       "      <td>1995</td>\n",
       "      <td>0</td>\n",
       "      <td>1</td>\n",
       "      <td>0</td>\n",
       "      <td>0</td>\n",
       "      <td>0</td>\n",
       "      <td>0</td>\n",
       "      <td>0</td>\n",
       "      <td>0</td>\n",
       "      <td>0</td>\n",
       "      <td>0</td>\n",
       "      <td>0</td>\n",
       "      <td>0</td>\n",
       "      <td>2</td>\n",
       "      <td>4</td>\n",
       "      <td>4.770685</td>\n",
       "    </tr>\n",
       "    <tr>\n",
       "      <th>2</th>\n",
       "      <td>1995-03-01</td>\n",
       "      <td>132</td>\n",
       "      <td>3</td>\n",
       "      <td>1995</td>\n",
       "      <td>0</td>\n",
       "      <td>0</td>\n",
       "      <td>1</td>\n",
       "      <td>0</td>\n",
       "      <td>0</td>\n",
       "      <td>0</td>\n",
       "      <td>0</td>\n",
       "      <td>0</td>\n",
       "      <td>0</td>\n",
       "      <td>0</td>\n",
       "      <td>0</td>\n",
       "      <td>0</td>\n",
       "      <td>3</td>\n",
       "      <td>9</td>\n",
       "      <td>4.882802</td>\n",
       "    </tr>\n",
       "    <tr>\n",
       "      <th>3</th>\n",
       "      <td>1995-04-01</td>\n",
       "      <td>129</td>\n",
       "      <td>4</td>\n",
       "      <td>1995</td>\n",
       "      <td>0</td>\n",
       "      <td>0</td>\n",
       "      <td>0</td>\n",
       "      <td>1</td>\n",
       "      <td>0</td>\n",
       "      <td>0</td>\n",
       "      <td>0</td>\n",
       "      <td>0</td>\n",
       "      <td>0</td>\n",
       "      <td>0</td>\n",
       "      <td>0</td>\n",
       "      <td>0</td>\n",
       "      <td>4</td>\n",
       "      <td>16</td>\n",
       "      <td>4.859812</td>\n",
       "    </tr>\n",
       "    <tr>\n",
       "      <th>4</th>\n",
       "      <td>1995-05-01</td>\n",
       "      <td>121</td>\n",
       "      <td>5</td>\n",
       "      <td>1995</td>\n",
       "      <td>0</td>\n",
       "      <td>0</td>\n",
       "      <td>0</td>\n",
       "      <td>0</td>\n",
       "      <td>1</td>\n",
       "      <td>0</td>\n",
       "      <td>0</td>\n",
       "      <td>0</td>\n",
       "      <td>0</td>\n",
       "      <td>0</td>\n",
       "      <td>0</td>\n",
       "      <td>0</td>\n",
       "      <td>5</td>\n",
       "      <td>25</td>\n",
       "      <td>4.795791</td>\n",
       "    </tr>\n",
       "  </tbody>\n",
       "</table>\n",
       "</div>"
      ],
      "text/plain": [
       "       Month  Passengers  month  year  m1  m2  m3  m4  m5  m6  m7  m8  m9  \\\n",
       "0 1995-01-01         112      1  1995   1   0   0   0   0   0   0   0   0   \n",
       "1 1995-02-01         118      2  1995   0   1   0   0   0   0   0   0   0   \n",
       "2 1995-03-01         132      3  1995   0   0   1   0   0   0   0   0   0   \n",
       "3 1995-04-01         129      4  1995   0   0   0   1   0   0   0   0   0   \n",
       "4 1995-05-01         121      5  1995   0   0   0   0   1   0   0   0   0   \n",
       "\n",
       "   m10  m11  m12  t  t_squared  log_Passengers  \n",
       "0    0    0    0  1          1        4.718499  \n",
       "1    0    0    0  2          4        4.770685  \n",
       "2    0    0    0  3          9        4.882802  \n",
       "3    0    0    0  4         16        4.859812  \n",
       "4    0    0    0  5         25        4.795791  "
      ]
     },
     "execution_count": 29,
     "metadata": {},
     "output_type": "execute_result"
    }
   ],
   "source": [
    "df.head()"
   ]
  },
  {
   "cell_type": "code",
   "execution_count": 31,
   "id": "de14f22d",
   "metadata": {},
   "outputs": [
    {
     "data": {
      "text/plain": [
       "13.484378376693773"
      ]
     },
     "execution_count": 31,
     "metadata": {},
     "output_type": "execute_result"
    }
   ],
   "source": [
    "final_model = smf.ols('Passengers~t+t_squared+m1+m2+m3+m4+m5+m6+m7+m8+m9+m10+m11+m12',data=df).fit()\n",
    "pred_final = pd.Series(final_model.predict(df[['m1','m2','m3','m4','m5','m6','m7','m8','m9','m10','m11','m12','t','t_squared']]))\n",
    "rmse_final_model = RMSE(df['Passengers'], pred_final)\n",
    "rmse_final_model"
   ]
  },
  {
   "cell_type": "code",
   "execution_count": 32,
   "id": "ba9f24dd",
   "metadata": {},
   "outputs": [
    {
     "data": {
      "text/html": [
       "<div>\n",
       "<style scoped>\n",
       "    .dataframe tbody tr th:only-of-type {\n",
       "        vertical-align: middle;\n",
       "    }\n",
       "\n",
       "    .dataframe tbody tr th {\n",
       "        vertical-align: top;\n",
       "    }\n",
       "\n",
       "    .dataframe thead th {\n",
       "        text-align: right;\n",
       "    }\n",
       "</style>\n",
       "<table border=\"1\" class=\"dataframe\">\n",
       "  <thead>\n",
       "    <tr style=\"text-align: right;\">\n",
       "      <th></th>\n",
       "      <th>Actual</th>\n",
       "      <th>Predicted</th>\n",
       "    </tr>\n",
       "  </thead>\n",
       "  <tbody>\n",
       "    <tr>\n",
       "      <th>0</th>\n",
       "      <td>112</td>\n",
       "      <td>101.802790</td>\n",
       "    </tr>\n",
       "    <tr>\n",
       "      <th>1</th>\n",
       "      <td>118</td>\n",
       "      <td>100.717631</td>\n",
       "    </tr>\n",
       "    <tr>\n",
       "      <th>2</th>\n",
       "      <td>132</td>\n",
       "      <td>128.632471</td>\n",
       "    </tr>\n",
       "    <tr>\n",
       "      <th>3</th>\n",
       "      <td>129</td>\n",
       "      <td>121.797312</td>\n",
       "    </tr>\n",
       "    <tr>\n",
       "      <th>4</th>\n",
       "      <td>121</td>\n",
       "      <td>120.837153</td>\n",
       "    </tr>\n",
       "  </tbody>\n",
       "</table>\n",
       "</div>"
      ],
      "text/plain": [
       "   Actual   Predicted\n",
       "0     112  101.802790\n",
       "1     118  100.717631\n",
       "2     132  128.632471\n",
       "3     129  121.797312\n",
       "4     121  120.837153"
      ]
     },
     "execution_count": 32,
     "metadata": {},
     "output_type": "execute_result"
    }
   ],
   "source": [
    "pred_df = pd.DataFrame({'Actual' : df.Passengers, 'Predicted' : pred_final})\n",
    "pred_df.head()"
   ]
  }
 ],
 "metadata": {
  "kernelspec": {
   "display_name": "Python 3 (ipykernel)",
   "language": "python",
   "name": "python3"
  },
  "language_info": {
   "codemirror_mode": {
    "name": "ipython",
    "version": 3
   },
   "file_extension": ".py",
   "mimetype": "text/x-python",
   "name": "python",
   "nbconvert_exporter": "python",
   "pygments_lexer": "ipython3",
   "version": "3.9.7"
  }
 },
 "nbformat": 4,
 "nbformat_minor": 5
}
